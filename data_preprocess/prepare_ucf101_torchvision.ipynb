{
 "cells": [
  {
   "cell_type": "code",
   "execution_count": 2,
   "metadata": {},
   "outputs": [],
   "source": [
    "import os\n"
   ]
  },
  {
   "cell_type": "code",
   "execution_count": 8,
   "metadata": {},
   "outputs": [],
   "source": [
    "dataset_root_path = \"/data/ZHO/formats/ucf101_letters_only\""
   ]
  },
  {
   "cell_type": "code",
   "execution_count": 9,
   "metadata": {},
   "outputs": [
    {
     "name": "stdout",
     "output_type": "stream",
     "text": [
      "Total videos: 128\n"
     ]
    }
   ],
   "source": [
    "import pathlib\n",
    "\n",
    "dataset_root_path = pathlib.Path(dataset_root_path)\n",
    "\n",
    "video_count_train = len(list(dataset_root_path.glob(\"train/*/*.mp4\")))\n",
    "video_count_val = len(list(dataset_root_path.glob(\"val/*/*.mp4\")))\n",
    "video_count_test = len(list(dataset_root_path.glob(\"test/*/*.mp4\")))\n",
    "video_total = video_count_train + video_count_val + video_count_test\n",
    "print(f\"Total videos: {video_total}\")"
   ]
  },
  {
   "cell_type": "code",
   "execution_count": 10,
   "metadata": {},
   "outputs": [
    {
     "data": {
      "text/plain": [
       "[PosixPath('/data/ZHO/formats/ucf101_letters_only/train/haa/Original_haa.mp4'),\n",
       " PosixPath('/data/ZHO/formats/ucf101_letters_only/train/haa/Ganzo_haa.mp4'),\n",
       " PosixPath('/data/ZHO/formats/ucf101_letters_only/train/khaa/Original_khaa.mp4'),\n",
       " PosixPath('/data/ZHO/formats/ucf101_letters_only/train/khaa/Ganzo_khaa.mp4'),\n",
       " PosixPath('/data/ZHO/formats/ucf101_letters_only/train/aeen/Original_aeen.mp4')]"
      ]
     },
     "execution_count": 10,
     "metadata": {},
     "output_type": "execute_result"
    }
   ],
   "source": [
    "all_video_file_paths = (\n",
    "    list(dataset_root_path.glob(\"train/*/*.mp4\"))\n",
    "    + list(dataset_root_path.glob(\"val/*/*.mp4\"))\n",
    "    + list(dataset_root_path.glob(\"test/*/*.mp4\"))\n",
    ")\n",
    "all_video_file_paths[:5]"
   ]
  },
  {
   "cell_type": "code",
   "execution_count": 3,
   "metadata": {},
   "outputs": [],
   "source": [
    "data_path = \"/data/ZHO/formats/ucf101_letters_only\"\n"
   ]
  },
  {
   "cell_type": "code",
   "execution_count": 4,
   "metadata": {},
   "outputs": [],
   "source": [
    "classes = os.listdir(os.path.join(data_path,'train'))"
   ]
  },
  {
   "cell_type": "code",
   "execution_count": 11,
   "metadata": {},
   "outputs": [
    {
     "name": "stdout",
     "output_type": "stream",
     "text": [
      "Unique classes: ['aeen', 'alif', 'baa', 'daad', 'daal', 'faa', 'gaen', 'haa', 'haa_1', 'hamza_wow', 'hamza_yaa', 'jeem', 'kaaf', 'khaa', 'laa', 'laam', 'meem', 'noon', 'qaaf', 'raa', 'saa', 'saad', 'seen', 'sheen', 'taa', 'taa_1', 'tua', 'wow', 'yaa', 'zaai', 'zaal', 'zua'].\n",
      "32\n"
     ]
    }
   ],
   "source": [
    "class_labels = sorted({str(path).split(\"/\")[6] for path in all_video_file_paths})\n",
    "label2id = {label: i for i, label in enumerate(class_labels)}\n",
    "id2label = {i: label for label, i in label2id.items()}\n",
    "\n",
    "print(f\"Unique classes: {list(label2id.keys())}.\")\n",
    "print(len(id2label))"
   ]
  },
  {
   "cell_type": "code",
   "execution_count": 13,
   "metadata": {},
   "outputs": [],
   "source": [
    "with open(os.path.join(data_path,'annotations','classInd.txt'),'w') as writer:\n",
    "    for i in id2label.keys():\n",
    "        writer.write(str(i)+' '+id2label[i]+'\\n')"
   ]
  },
  {
   "cell_type": "code",
   "execution_count": 30,
   "metadata": {},
   "outputs": [],
   "source": [
    "with open(os.path.join(data_path,'annotations','testlist01.txt'),'w') as writer:\n",
    "    for i in list(dataset_root_path.glob(\"test/*/*.mp4\")):\n",
    "        writer.write(str(i)+' '+str(label2id[str(i).split(\"/\")[6]])+'\\n')"
   ]
  },
  {
   "cell_type": "code",
   "execution_count": 31,
   "metadata": {},
   "outputs": [],
   "source": [
    "with open(os.path.join(data_path,'annotations','trainlist01.txt'),'w') as writer:\n",
    "    for i in list(dataset_root_path.glob(\"train/*/*.mp4\")):\n",
    "        writer.write(str(i)+' '+str(label2id[str(i).split(\"/\")[6]])+'\\n')"
   ]
  },
  {
   "cell_type": "code",
   "execution_count": 32,
   "metadata": {},
   "outputs": [],
   "source": [
    "with open(os.path.join(data_path,'annotations','vallist01.txt'),'w') as writer:\n",
    "    for i in list(dataset_root_path.glob(\"val/*/*.mp4\")):\n",
    "        writer.write(str(i)+' '+str(label2id[str(i).split(\"/\")[6]])+'\\n')"
   ]
  },
  {
   "cell_type": "code",
   "execution_count": null,
   "metadata": {},
   "outputs": [],
   "source": []
  }
 ],
 "metadata": {
  "kernelspec": {
   "display_name": "Python 3.8.10 64-bit",
   "language": "python",
   "name": "python3"
  },
  "language_info": {
   "codemirror_mode": {
    "name": "ipython",
    "version": 3
   },
   "file_extension": ".py",
   "mimetype": "text/x-python",
   "name": "python",
   "nbconvert_exporter": "python",
   "pygments_lexer": "ipython3",
   "version": "3.8.10 (default, Jun 22 2022, 20:18:18) \n[GCC 9.4.0]"
  },
  "orig_nbformat": 4,
  "vscode": {
   "interpreter": {
    "hash": "e7370f93d1d0cde622a1f8e1c04877d8463912d04d973331ad4851f04de6915a"
   }
  }
 },
 "nbformat": 4,
 "nbformat_minor": 2
}
