{
 "cells": [
  {
   "cell_type": "code",
   "execution_count": 1,
   "metadata": {},
   "outputs": [],
   "source": [
    "import math\n",
    "from functools import partial\n",
    "import torch\n",
    "import torch.nn as nn\n",
    "import torch.nn.functional as F\n",
    "from torch.nn.init import trunc_normal_\n",
    "\n"
   ]
  },
  {
   "cell_type": "code",
   "execution_count": 3,
   "metadata": {},
   "outputs": [
    {
     "ename": "ModuleNotFoundError",
     "evalue": "No module named 'slowfast.models.batchnorm_helper'",
     "output_type": "error",
     "traceback": [
      "\u001b[0;31m---------------------------------------------------------------------------\u001b[0m",
      "\u001b[0;31mModuleNotFoundError\u001b[0m                       Traceback (most recent call last)",
      "Cell \u001b[0;32mIn [3], line 4\u001b[0m\n\u001b[1;32m      2\u001b[0m \u001b[39mimport\u001b[39;00m \u001b[39mslowfast\u001b[39;00m\u001b[39m.\u001b[39;00m\u001b[39mutils\u001b[39;00m\u001b[39m.\u001b[39;00m\u001b[39mweight_init_helper\u001b[39;00m \u001b[39mas\u001b[39;00m \u001b[39minit_helper\u001b[39;00m\n\u001b[1;32m      3\u001b[0m \u001b[39m#from slowfast.models.attention import MultiScaleBlock\u001b[39;00m\n\u001b[0;32m----> 4\u001b[0m \u001b[39mfrom\u001b[39;00m \u001b[39mslowfast\u001b[39;00m\u001b[39m.\u001b[39;00m\u001b[39mmodels\u001b[39;00m\u001b[39m.\u001b[39;00m\u001b[39mbatchnorm_helper\u001b[39;00m \u001b[39mimport\u001b[39;00m get_norm\n\u001b[1;32m      5\u001b[0m \u001b[39mfrom\u001b[39;00m \u001b[39mslowfast\u001b[39;00m\u001b[39m.\u001b[39;00m\u001b[39mmodels\u001b[39;00m\u001b[39m.\u001b[39;00m\u001b[39mcommon\u001b[39;00m \u001b[39mimport\u001b[39;00m TwoStreamFusion\n\u001b[1;32m      6\u001b[0m \u001b[39mfrom\u001b[39;00m \u001b[39mslowfast\u001b[39;00m\u001b[39m.\u001b[39;00m\u001b[39mmodels\u001b[39;00m\u001b[39m.\u001b[39;00m\u001b[39mreversible_mvit\u001b[39;00m \u001b[39mimport\u001b[39;00m ReversibleMViT\n",
      "\u001b[0;31mModuleNotFoundError\u001b[0m: No module named 'slowfast.models.batchnorm_helper'"
     ]
    }
   ],
   "source": [
    "import slowfast.utils.logging as logging\n",
    "import slowfast.utils.weight_init_helper as init_helper\n",
    "from slowfast.models.attention import MultiScaleBlock\n",
    "from slowfast.models.batchnorm_helper import get_norm\n",
    "from slowfast.models.common import TwoStreamFusion\n",
    "from slowfast.models.reversible_mvit import ReversibleMViT\n",
    "from slowfast.models.utils import (\n",
    "    calc_mvit_feature_geometry,\n",
    "    get_3d_sincos_pos_embed,\n",
    "    round_width,\n",
    "    validate_checkpoint_wrapper_import,\n",
    ")\n"
   ]
  },
  {
   "cell_type": "code",
   "execution_count": null,
   "metadata": {},
   "outputs": [],
   "source": []
  }
 ],
 "metadata": {
  "kernelspec": {
   "display_name": "Python 3.8.10 64-bit",
   "language": "python",
   "name": "python3"
  },
  "language_info": {
   "codemirror_mode": {
    "name": "ipython",
    "version": 3
   },
   "file_extension": ".py",
   "mimetype": "text/x-python",
   "name": "python",
   "nbconvert_exporter": "python",
   "pygments_lexer": "ipython3",
   "version": "3.8.10"
  },
  "orig_nbformat": 4,
  "vscode": {
   "interpreter": {
    "hash": "e7370f93d1d0cde622a1f8e1c04877d8463912d04d973331ad4851f04de6915a"
   }
  }
 },
 "nbformat": 4,
 "nbformat_minor": 2
}
